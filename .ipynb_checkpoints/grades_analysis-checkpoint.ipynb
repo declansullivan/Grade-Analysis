{
 "cells": [
  {
   "cell_type": "markdown",
   "metadata": {},
   "source": [
    "<h1>Grade Analysis</h1>\n",
    "\n",
    "Welcome to my first data analysis project! I'm quite new to the field, so don't expect anything too grand. \n",
    "\n",
    "The idea for this project stemmed from a csv that my professor sent out in my intro to data structures for Python course. It was a csv full of everyone's grades with a secret code that was based on your student ID, so it was anonymous.\n",
    "\n",
    "I want to take a look at this data, which is the accumulation of a quarter's worth of work by an entire class, to see if I can find anything interesting. Maybe drop rates, signs of exhaustion, the time that the midterm was, or anything that could be revealed by the grades students received as the quarter continued.\n",
    "\n",
    "So, without any further ado, let's get into it!"
   ]
  },
  {
   "cell_type": "code",
   "execution_count": 28,
   "metadata": {
    "collapsed": true
   },
   "outputs": [],
   "source": [
    "import pandas as pd\n",
    "import matplotlib.pyplot as plt\n",
    "import numpy as np\n",
    "from sklearn.linear_model import LinearRegression"
   ]
  },
  {
   "cell_type": "markdown",
   "metadata": {},
   "source": [
    "<h2> The Data </h2>\n",
    "\n",
    "This is the csv that was sent out to all students. As you can see, it contains a secret code for each student, each person's grades for homeworks 1-8, lab1-9, and the midterm, as well as totals. These values are all represented as proportions, so we do not have to worry about any strange weights in the event that some assignments were worth more points than others."
   ]
  },
  {
   "cell_type": "code",
   "execution_count": 3,
   "metadata": {},
   "outputs": [
    {
     "data": {
      "text/html": [
       "<div>\n",
       "<style>\n",
       "    .dataframe thead tr:only-child th {\n",
       "        text-align: right;\n",
       "    }\n",
       "\n",
       "    .dataframe thead th {\n",
       "        text-align: left;\n",
       "    }\n",
       "\n",
       "    .dataframe tbody tr th {\n",
       "        vertical-align: top;\n",
       "    }\n",
       "</style>\n",
       "<table border=\"1\" class=\"dataframe\">\n",
       "  <thead>\n",
       "    <tr style=\"text-align: right;\">\n",
       "      <th></th>\n",
       "      <th>Secrete Code</th>\n",
       "      <th>hw1_score</th>\n",
       "      <th>hw2_score</th>\n",
       "      <th>hw3_score</th>\n",
       "      <th>hw4_score</th>\n",
       "      <th>hw5_score</th>\n",
       "      <th>hw6_score</th>\n",
       "      <th>hw7_score</th>\n",
       "      <th>hw8_score</th>\n",
       "      <th>lab01_score</th>\n",
       "      <th>...</th>\n",
       "      <th>lab05_score</th>\n",
       "      <th>lab07_score</th>\n",
       "      <th>lab08_score</th>\n",
       "      <th>lab09_score</th>\n",
       "      <th>lab6_score</th>\n",
       "      <th>Midterm</th>\n",
       "      <th>Participation</th>\n",
       "      <th>Lab_Total</th>\n",
       "      <th>HW_Total</th>\n",
       "      <th>Weighted_Total</th>\n",
       "    </tr>\n",
       "  </thead>\n",
       "  <tbody>\n",
       "    <tr>\n",
       "      <th>0</th>\n",
       "      <td>zvodl</td>\n",
       "      <td>0.915</td>\n",
       "      <td>0.68</td>\n",
       "      <td>0.975</td>\n",
       "      <td>0.83</td>\n",
       "      <td>1.00</td>\n",
       "      <td>0.77</td>\n",
       "      <td>1.00</td>\n",
       "      <td>0.96</td>\n",
       "      <td>1.0</td>\n",
       "      <td>...</td>\n",
       "      <td>1.0</td>\n",
       "      <td>1.0</td>\n",
       "      <td>1.0</td>\n",
       "      <td>1.0</td>\n",
       "      <td>1.0</td>\n",
       "      <td>0.4250</td>\n",
       "      <td>1.00</td>\n",
       "      <td>0.986111</td>\n",
       "      <td>0.921429</td>\n",
       "      <td>0.820040</td>\n",
       "    </tr>\n",
       "    <tr>\n",
       "      <th>1</th>\n",
       "      <td>zhnzdq</td>\n",
       "      <td>0.900</td>\n",
       "      <td>0.91</td>\n",
       "      <td>0.980</td>\n",
       "      <td>0.98</td>\n",
       "      <td>0.97</td>\n",
       "      <td>1.00</td>\n",
       "      <td>1.00</td>\n",
       "      <td>0.93</td>\n",
       "      <td>1.0</td>\n",
       "      <td>...</td>\n",
       "      <td>1.0</td>\n",
       "      <td>1.0</td>\n",
       "      <td>1.0</td>\n",
       "      <td>1.0</td>\n",
       "      <td>1.0</td>\n",
       "      <td>0.8500</td>\n",
       "      <td>1.00</td>\n",
       "      <td>1.000000</td>\n",
       "      <td>0.967143</td>\n",
       "      <td>0.948810</td>\n",
       "    </tr>\n",
       "    <tr>\n",
       "      <th>2</th>\n",
       "      <td>b2pd</td>\n",
       "      <td>0.650</td>\n",
       "      <td>0.38</td>\n",
       "      <td>0.860</td>\n",
       "      <td>0.80</td>\n",
       "      <td>0.00</td>\n",
       "      <td>0.86</td>\n",
       "      <td>0.96</td>\n",
       "      <td>0.00</td>\n",
       "      <td>1.0</td>\n",
       "      <td>...</td>\n",
       "      <td>1.0</td>\n",
       "      <td>1.0</td>\n",
       "      <td>1.0</td>\n",
       "      <td>1.0</td>\n",
       "      <td>1.0</td>\n",
       "      <td>0.6125</td>\n",
       "      <td>0.88</td>\n",
       "      <td>0.972222</td>\n",
       "      <td>0.644286</td>\n",
       "      <td>0.737966</td>\n",
       "    </tr>\n",
       "    <tr>\n",
       "      <th>3</th>\n",
       "      <td>vwdnhjdp</td>\n",
       "      <td>0.775</td>\n",
       "      <td>0.48</td>\n",
       "      <td>0.810</td>\n",
       "      <td>0.91</td>\n",
       "      <td>0.00</td>\n",
       "      <td>0.00</td>\n",
       "      <td>0.00</td>\n",
       "      <td>0.00</td>\n",
       "      <td>0.4</td>\n",
       "      <td>...</td>\n",
       "      <td>0.0</td>\n",
       "      <td>0.0</td>\n",
       "      <td>0.0</td>\n",
       "      <td>0.0</td>\n",
       "      <td>0.0</td>\n",
       "      <td>0.3875</td>\n",
       "      <td>0.52</td>\n",
       "      <td>0.119949</td>\n",
       "      <td>0.425000</td>\n",
       "      <td>0.347279</td>\n",
       "    </tr>\n",
       "    <tr>\n",
       "      <th>4</th>\n",
       "      <td>bzfkhq</td>\n",
       "      <td>0.870</td>\n",
       "      <td>0.38</td>\n",
       "      <td>0.740</td>\n",
       "      <td>0.89</td>\n",
       "      <td>0.70</td>\n",
       "      <td>0.00</td>\n",
       "      <td>0.00</td>\n",
       "      <td>0.00</td>\n",
       "      <td>1.0</td>\n",
       "      <td>...</td>\n",
       "      <td>0.4</td>\n",
       "      <td>0.0</td>\n",
       "      <td>0.0</td>\n",
       "      <td>0.0</td>\n",
       "      <td>0.0</td>\n",
       "      <td>0.5875</td>\n",
       "      <td>0.00</td>\n",
       "      <td>0.475000</td>\n",
       "      <td>0.511429</td>\n",
       "      <td>0.478720</td>\n",
       "    </tr>\n",
       "  </tbody>\n",
       "</table>\n",
       "<p>5 rows × 23 columns</p>\n",
       "</div>"
      ],
      "text/plain": [
       "  Secrete Code  hw1_score  hw2_score  hw3_score  hw4_score  hw5_score  \\\n",
       "0        zvodl      0.915       0.68      0.975       0.83       1.00   \n",
       "1       zhnzdq      0.900       0.91      0.980       0.98       0.97   \n",
       "2         b2pd      0.650       0.38      0.860       0.80       0.00   \n",
       "3     vwdnhjdp      0.775       0.48      0.810       0.91       0.00   \n",
       "4       bzfkhq      0.870       0.38      0.740       0.89       0.70   \n",
       "\n",
       "   hw6_score  hw7_score  hw8_score  lab01_score       ...        lab05_score  \\\n",
       "0       0.77       1.00       0.96          1.0       ...                1.0   \n",
       "1       1.00       1.00       0.93          1.0       ...                1.0   \n",
       "2       0.86       0.96       0.00          1.0       ...                1.0   \n",
       "3       0.00       0.00       0.00          0.4       ...                0.0   \n",
       "4       0.00       0.00       0.00          1.0       ...                0.4   \n",
       "\n",
       "   lab07_score  lab08_score  lab09_score  lab6_score  Midterm  Participation  \\\n",
       "0          1.0          1.0          1.0         1.0   0.4250           1.00   \n",
       "1          1.0          1.0          1.0         1.0   0.8500           1.00   \n",
       "2          1.0          1.0          1.0         1.0   0.6125           0.88   \n",
       "3          0.0          0.0          0.0         0.0   0.3875           0.52   \n",
       "4          0.0          0.0          0.0         0.0   0.5875           0.00   \n",
       "\n",
       "   Lab_Total  HW_Total  Weighted_Total  \n",
       "0   0.986111  0.921429        0.820040  \n",
       "1   1.000000  0.967143        0.948810  \n",
       "2   0.972222  0.644286        0.737966  \n",
       "3   0.119949  0.425000        0.347279  \n",
       "4   0.475000  0.511429        0.478720  \n",
       "\n",
       "[5 rows x 23 columns]"
      ]
     },
     "execution_count": 3,
     "metadata": {},
     "output_type": "execute_result"
    }
   ],
   "source": [
    "grades = pd.read_csv(\"Final_Secret_Grades.csv\")\n",
    "grades.head()"
   ]
  },
  {
   "cell_type": "markdown",
   "metadata": {},
   "source": [
    "<h2> Cleanup </h2>\n",
    "\n",
    "The first step for me is to drop the secret code, as that is not pertinent information. I also want to clean up the column names a bit, we know that each column is a score, so there's no point keeping that extraneous information on the end of the string, especially if we want to display it later."
   ]
  },
  {
   "cell_type": "code",
   "execution_count": 4,
   "metadata": {},
   "outputs": [
    {
     "data": {
      "text/html": [
       "<div>\n",
       "<style>\n",
       "    .dataframe thead tr:only-child th {\n",
       "        text-align: right;\n",
       "    }\n",
       "\n",
       "    .dataframe thead th {\n",
       "        text-align: left;\n",
       "    }\n",
       "\n",
       "    .dataframe tbody tr th {\n",
       "        vertical-align: top;\n",
       "    }\n",
       "</style>\n",
       "<table border=\"1\" class=\"dataframe\">\n",
       "  <thead>\n",
       "    <tr style=\"text-align: right;\">\n",
       "      <th></th>\n",
       "      <th>hw1_score</th>\n",
       "      <th>hw2_score</th>\n",
       "      <th>hw3_score</th>\n",
       "      <th>hw4_score</th>\n",
       "      <th>hw5_score</th>\n",
       "      <th>hw6_score</th>\n",
       "      <th>hw7_score</th>\n",
       "      <th>hw8_score</th>\n",
       "      <th>lab01_score</th>\n",
       "      <th>lab02_score</th>\n",
       "      <th>...</th>\n",
       "      <th>lab05_score</th>\n",
       "      <th>lab07_score</th>\n",
       "      <th>lab08_score</th>\n",
       "      <th>lab09_score</th>\n",
       "      <th>lab6_score</th>\n",
       "      <th>Midterm</th>\n",
       "      <th>Participation</th>\n",
       "      <th>Lab_Total</th>\n",
       "      <th>HW_Total</th>\n",
       "      <th>Weighted_Total</th>\n",
       "    </tr>\n",
       "  </thead>\n",
       "  <tbody>\n",
       "    <tr>\n",
       "      <th>0</th>\n",
       "      <td>0.915</td>\n",
       "      <td>0.68</td>\n",
       "      <td>0.975</td>\n",
       "      <td>0.83</td>\n",
       "      <td>1.00</td>\n",
       "      <td>0.77</td>\n",
       "      <td>1.00</td>\n",
       "      <td>0.96</td>\n",
       "      <td>1.0</td>\n",
       "      <td>1.000000</td>\n",
       "      <td>...</td>\n",
       "      <td>1.0</td>\n",
       "      <td>1.0</td>\n",
       "      <td>1.0</td>\n",
       "      <td>1.0</td>\n",
       "      <td>1.0</td>\n",
       "      <td>0.4250</td>\n",
       "      <td>1.00</td>\n",
       "      <td>0.986111</td>\n",
       "      <td>0.921429</td>\n",
       "      <td>0.820040</td>\n",
       "    </tr>\n",
       "    <tr>\n",
       "      <th>1</th>\n",
       "      <td>0.900</td>\n",
       "      <td>0.91</td>\n",
       "      <td>0.980</td>\n",
       "      <td>0.98</td>\n",
       "      <td>0.97</td>\n",
       "      <td>1.00</td>\n",
       "      <td>1.00</td>\n",
       "      <td>0.93</td>\n",
       "      <td>1.0</td>\n",
       "      <td>1.000000</td>\n",
       "      <td>...</td>\n",
       "      <td>1.0</td>\n",
       "      <td>1.0</td>\n",
       "      <td>1.0</td>\n",
       "      <td>1.0</td>\n",
       "      <td>1.0</td>\n",
       "      <td>0.8500</td>\n",
       "      <td>1.00</td>\n",
       "      <td>1.000000</td>\n",
       "      <td>0.967143</td>\n",
       "      <td>0.948810</td>\n",
       "    </tr>\n",
       "    <tr>\n",
       "      <th>2</th>\n",
       "      <td>0.650</td>\n",
       "      <td>0.38</td>\n",
       "      <td>0.860</td>\n",
       "      <td>0.80</td>\n",
       "      <td>0.00</td>\n",
       "      <td>0.86</td>\n",
       "      <td>0.96</td>\n",
       "      <td>0.00</td>\n",
       "      <td>1.0</td>\n",
       "      <td>1.000000</td>\n",
       "      <td>...</td>\n",
       "      <td>1.0</td>\n",
       "      <td>1.0</td>\n",
       "      <td>1.0</td>\n",
       "      <td>1.0</td>\n",
       "      <td>1.0</td>\n",
       "      <td>0.6125</td>\n",
       "      <td>0.88</td>\n",
       "      <td>0.972222</td>\n",
       "      <td>0.644286</td>\n",
       "      <td>0.737966</td>\n",
       "    </tr>\n",
       "    <tr>\n",
       "      <th>3</th>\n",
       "      <td>0.775</td>\n",
       "      <td>0.48</td>\n",
       "      <td>0.810</td>\n",
       "      <td>0.91</td>\n",
       "      <td>0.00</td>\n",
       "      <td>0.00</td>\n",
       "      <td>0.00</td>\n",
       "      <td>0.00</td>\n",
       "      <td>0.4</td>\n",
       "      <td>0.454545</td>\n",
       "      <td>...</td>\n",
       "      <td>0.0</td>\n",
       "      <td>0.0</td>\n",
       "      <td>0.0</td>\n",
       "      <td>0.0</td>\n",
       "      <td>0.0</td>\n",
       "      <td>0.3875</td>\n",
       "      <td>0.52</td>\n",
       "      <td>0.119949</td>\n",
       "      <td>0.425000</td>\n",
       "      <td>0.347279</td>\n",
       "    </tr>\n",
       "    <tr>\n",
       "      <th>4</th>\n",
       "      <td>0.870</td>\n",
       "      <td>0.38</td>\n",
       "      <td>0.740</td>\n",
       "      <td>0.89</td>\n",
       "      <td>0.70</td>\n",
       "      <td>0.00</td>\n",
       "      <td>0.00</td>\n",
       "      <td>0.00</td>\n",
       "      <td>1.0</td>\n",
       "      <td>1.000000</td>\n",
       "      <td>...</td>\n",
       "      <td>0.4</td>\n",
       "      <td>0.0</td>\n",
       "      <td>0.0</td>\n",
       "      <td>0.0</td>\n",
       "      <td>0.0</td>\n",
       "      <td>0.5875</td>\n",
       "      <td>0.00</td>\n",
       "      <td>0.475000</td>\n",
       "      <td>0.511429</td>\n",
       "      <td>0.478720</td>\n",
       "    </tr>\n",
       "  </tbody>\n",
       "</table>\n",
       "<p>5 rows × 22 columns</p>\n",
       "</div>"
      ],
      "text/plain": [
       "   hw1_score  hw2_score  hw3_score  hw4_score  hw5_score  hw6_score  \\\n",
       "0      0.915       0.68      0.975       0.83       1.00       0.77   \n",
       "1      0.900       0.91      0.980       0.98       0.97       1.00   \n",
       "2      0.650       0.38      0.860       0.80       0.00       0.86   \n",
       "3      0.775       0.48      0.810       0.91       0.00       0.00   \n",
       "4      0.870       0.38      0.740       0.89       0.70       0.00   \n",
       "\n",
       "   hw7_score  hw8_score  lab01_score  lab02_score       ...        \\\n",
       "0       1.00       0.96          1.0     1.000000       ...         \n",
       "1       1.00       0.93          1.0     1.000000       ...         \n",
       "2       0.96       0.00          1.0     1.000000       ...         \n",
       "3       0.00       0.00          0.4     0.454545       ...         \n",
       "4       0.00       0.00          1.0     1.000000       ...         \n",
       "\n",
       "   lab05_score  lab07_score  lab08_score  lab09_score  lab6_score  Midterm  \\\n",
       "0          1.0          1.0          1.0          1.0         1.0   0.4250   \n",
       "1          1.0          1.0          1.0          1.0         1.0   0.8500   \n",
       "2          1.0          1.0          1.0          1.0         1.0   0.6125   \n",
       "3          0.0          0.0          0.0          0.0         0.0   0.3875   \n",
       "4          0.4          0.0          0.0          0.0         0.0   0.5875   \n",
       "\n",
       "   Participation  Lab_Total  HW_Total  Weighted_Total  \n",
       "0           1.00   0.986111  0.921429        0.820040  \n",
       "1           1.00   1.000000  0.967143        0.948810  \n",
       "2           0.88   0.972222  0.644286        0.737966  \n",
       "3           0.52   0.119949  0.425000        0.347279  \n",
       "4           0.00   0.475000  0.511429        0.478720  \n",
       "\n",
       "[5 rows x 22 columns]"
      ]
     },
     "execution_count": 4,
     "metadata": {},
     "output_type": "execute_result"
    }
   ],
   "source": [
    "grades.drop(\"Secrete Code\", axis=1, inplace=True)\n",
    "grades.head()"
   ]
  },
  {
   "cell_type": "code",
   "execution_count": 5,
   "metadata": {},
   "outputs": [
    {
     "data": {
      "text/html": [
       "<div>\n",
       "<style>\n",
       "    .dataframe thead tr:only-child th {\n",
       "        text-align: right;\n",
       "    }\n",
       "\n",
       "    .dataframe thead th {\n",
       "        text-align: left;\n",
       "    }\n",
       "\n",
       "    .dataframe tbody tr th {\n",
       "        vertical-align: top;\n",
       "    }\n",
       "</style>\n",
       "<table border=\"1\" class=\"dataframe\">\n",
       "  <thead>\n",
       "    <tr style=\"text-align: right;\">\n",
       "      <th></th>\n",
       "      <th>lab01</th>\n",
       "      <th>lab02</th>\n",
       "      <th>lab03</th>\n",
       "      <th>lab04</th>\n",
       "      <th>lab05</th>\n",
       "      <th>lab06</th>\n",
       "      <th>lab07</th>\n",
       "      <th>lab08</th>\n",
       "      <th>lab09</th>\n",
       "      <th>hw1</th>\n",
       "      <th>...</th>\n",
       "      <th>hw4</th>\n",
       "      <th>hw5</th>\n",
       "      <th>hw6</th>\n",
       "      <th>hw7</th>\n",
       "      <th>hw8</th>\n",
       "      <th>Lab Total</th>\n",
       "      <th>HW Total</th>\n",
       "      <th>Weighted Total</th>\n",
       "      <th>Midterm</th>\n",
       "      <th>Participation</th>\n",
       "    </tr>\n",
       "  </thead>\n",
       "  <tbody>\n",
       "    <tr>\n",
       "      <th>0</th>\n",
       "      <td>1.0</td>\n",
       "      <td>1.000000</td>\n",
       "      <td>0.875</td>\n",
       "      <td>1.0</td>\n",
       "      <td>1.0</td>\n",
       "      <td>1.0</td>\n",
       "      <td>1.0</td>\n",
       "      <td>1.0</td>\n",
       "      <td>1.0</td>\n",
       "      <td>0.915</td>\n",
       "      <td>...</td>\n",
       "      <td>0.83</td>\n",
       "      <td>1.00</td>\n",
       "      <td>0.77</td>\n",
       "      <td>1.00</td>\n",
       "      <td>0.96</td>\n",
       "      <td>0.986111</td>\n",
       "      <td>0.921429</td>\n",
       "      <td>0.820040</td>\n",
       "      <td>0.4250</td>\n",
       "      <td>1.00</td>\n",
       "    </tr>\n",
       "    <tr>\n",
       "      <th>1</th>\n",
       "      <td>1.0</td>\n",
       "      <td>1.000000</td>\n",
       "      <td>1.000</td>\n",
       "      <td>1.0</td>\n",
       "      <td>1.0</td>\n",
       "      <td>1.0</td>\n",
       "      <td>1.0</td>\n",
       "      <td>1.0</td>\n",
       "      <td>1.0</td>\n",
       "      <td>0.900</td>\n",
       "      <td>...</td>\n",
       "      <td>0.98</td>\n",
       "      <td>0.97</td>\n",
       "      <td>1.00</td>\n",
       "      <td>1.00</td>\n",
       "      <td>0.93</td>\n",
       "      <td>1.000000</td>\n",
       "      <td>0.967143</td>\n",
       "      <td>0.948810</td>\n",
       "      <td>0.8500</td>\n",
       "      <td>1.00</td>\n",
       "    </tr>\n",
       "    <tr>\n",
       "      <th>2</th>\n",
       "      <td>1.0</td>\n",
       "      <td>1.000000</td>\n",
       "      <td>0.750</td>\n",
       "      <td>1.0</td>\n",
       "      <td>1.0</td>\n",
       "      <td>1.0</td>\n",
       "      <td>1.0</td>\n",
       "      <td>1.0</td>\n",
       "      <td>1.0</td>\n",
       "      <td>0.650</td>\n",
       "      <td>...</td>\n",
       "      <td>0.80</td>\n",
       "      <td>0.00</td>\n",
       "      <td>0.86</td>\n",
       "      <td>0.96</td>\n",
       "      <td>0.00</td>\n",
       "      <td>0.972222</td>\n",
       "      <td>0.644286</td>\n",
       "      <td>0.737966</td>\n",
       "      <td>0.6125</td>\n",
       "      <td>0.88</td>\n",
       "    </tr>\n",
       "    <tr>\n",
       "      <th>3</th>\n",
       "      <td>0.4</td>\n",
       "      <td>0.454545</td>\n",
       "      <td>0.125</td>\n",
       "      <td>0.1</td>\n",
       "      <td>0.0</td>\n",
       "      <td>0.0</td>\n",
       "      <td>0.0</td>\n",
       "      <td>0.0</td>\n",
       "      <td>0.0</td>\n",
       "      <td>0.775</td>\n",
       "      <td>...</td>\n",
       "      <td>0.91</td>\n",
       "      <td>0.00</td>\n",
       "      <td>0.00</td>\n",
       "      <td>0.00</td>\n",
       "      <td>0.00</td>\n",
       "      <td>0.119949</td>\n",
       "      <td>0.425000</td>\n",
       "      <td>0.347279</td>\n",
       "      <td>0.3875</td>\n",
       "      <td>0.52</td>\n",
       "    </tr>\n",
       "    <tr>\n",
       "      <th>4</th>\n",
       "      <td>1.0</td>\n",
       "      <td>1.000000</td>\n",
       "      <td>0.875</td>\n",
       "      <td>1.0</td>\n",
       "      <td>0.4</td>\n",
       "      <td>0.0</td>\n",
       "      <td>0.0</td>\n",
       "      <td>0.0</td>\n",
       "      <td>0.0</td>\n",
       "      <td>0.870</td>\n",
       "      <td>...</td>\n",
       "      <td>0.89</td>\n",
       "      <td>0.70</td>\n",
       "      <td>0.00</td>\n",
       "      <td>0.00</td>\n",
       "      <td>0.00</td>\n",
       "      <td>0.475000</td>\n",
       "      <td>0.511429</td>\n",
       "      <td>0.478720</td>\n",
       "      <td>0.5875</td>\n",
       "      <td>0.00</td>\n",
       "    </tr>\n",
       "  </tbody>\n",
       "</table>\n",
       "<p>5 rows × 22 columns</p>\n",
       "</div>"
      ],
      "text/plain": [
       "   lab01     lab02  lab03  lab04  lab05  lab06  lab07  lab08  lab09    hw1  \\\n",
       "0    1.0  1.000000  0.875    1.0    1.0    1.0    1.0    1.0    1.0  0.915   \n",
       "1    1.0  1.000000  1.000    1.0    1.0    1.0    1.0    1.0    1.0  0.900   \n",
       "2    1.0  1.000000  0.750    1.0    1.0    1.0    1.0    1.0    1.0  0.650   \n",
       "3    0.4  0.454545  0.125    0.1    0.0    0.0    0.0    0.0    0.0  0.775   \n",
       "4    1.0  1.000000  0.875    1.0    0.4    0.0    0.0    0.0    0.0  0.870   \n",
       "\n",
       "       ...         hw4   hw5   hw6   hw7   hw8  Lab Total  HW Total  \\\n",
       "0      ...        0.83  1.00  0.77  1.00  0.96   0.986111  0.921429   \n",
       "1      ...        0.98  0.97  1.00  1.00  0.93   1.000000  0.967143   \n",
       "2      ...        0.80  0.00  0.86  0.96  0.00   0.972222  0.644286   \n",
       "3      ...        0.91  0.00  0.00  0.00  0.00   0.119949  0.425000   \n",
       "4      ...        0.89  0.70  0.00  0.00  0.00   0.475000  0.511429   \n",
       "\n",
       "   Weighted Total  Midterm  Participation  \n",
       "0        0.820040   0.4250           1.00  \n",
       "1        0.948810   0.8500           1.00  \n",
       "2        0.737966   0.6125           0.88  \n",
       "3        0.347279   0.3875           0.52  \n",
       "4        0.478720   0.5875           0.00  \n",
       "\n",
       "[5 rows x 22 columns]"
      ]
     },
     "execution_count": 5,
     "metadata": {},
     "output_type": "execute_result"
    }
   ],
   "source": [
    "# Drop _score and _Total\n",
    "for i in list(grades.columns):\n",
    "    if i.count(\"_score\"): \n",
    "        grades[i.strip(\"_score\")] = grades[i]\n",
    "        grades.drop(i, axis=1, inplace=True)\n",
    "    elif i.count(\"_Total\"):\n",
    "        grades[i.replace('_', ' ')] = grades[i]\n",
    "        grades.drop(i, axis=1, inplace=True)\n",
    "\n",
    "# Move the Midterm and Participation columns back to the end.\n",
    "temp_mid, temp_part = grades['Midterm'], grades['Participation']\n",
    "grades.drop(['Midterm', 'Participation'], axis=1, inplace=True)\n",
    "grades['Midterm'], grades['Participation'] = temp_mid, temp_part\n",
    "\n",
    "# Match naming format.\n",
    "grades['lab06'] = grades['lab6']\n",
    "grades.drop('lab6', axis=1, inplace=True)\n",
    "\n",
    "# Lists of each label subset.\n",
    "LAB_LIST = sorted([i for i in grades if i.count('lab')])\n",
    "HW_LIST = [i for i in grades if i.count(\"hw\")]\n",
    "MISC_LIST = [i for i in grades if not (i.count(\"hw\") or i.count(\"lab\"))]\n",
    "\n",
    "# Count of each label subset (excluding miscellaneous).\n",
    "NUM_LABS = len(LAB_LIST)\n",
    "NUM_HW = len(HW_LIST)\n",
    "\n",
    "def order_df():\n",
    "    \"\"\"This function returns a list comprehension that will order the columns sequentially form\n",
    "    labs, to homeworks, to miscellaneous.\"\"\"\n",
    "    return LAB_LIST + HW_LIST + MISC_LIST\n",
    "\n",
    "grades = grades[order_df()]\n",
    "grades.head()"
   ]
  },
  {
   "cell_type": "markdown",
   "metadata": {},
   "source": [
    "<h2> Preparation </h2>\n",
    "\n",
    "Now that I've cleaned the data, I can now extract anything I want from the DataFrame. My current plan is to pull out some averages and interpret those, as well as some counts as to how many people turned in an assignment or not, based on the number of 0s received."
   ]
  },
  {
   "cell_type": "code",
   "execution_count": 6,
   "metadata": {},
   "outputs": [
    {
     "data": {
      "text/plain": [
       "{'HW Total': 0.74,\n",
       " 'Lab Total': 0.82,\n",
       " 'Midterm': 0.66,\n",
       " 'Participation': 0.76,\n",
       " 'Weighted Total': 0.74,\n",
       " 'hw1': 0.74,\n",
       " 'hw2': 0.63,\n",
       " 'hw3': 0.75,\n",
       " 'hw4': 0.75,\n",
       " 'hw5': 0.73,\n",
       " 'hw6': 0.76,\n",
       " 'hw7': 0.66,\n",
       " 'hw8': 0.57,\n",
       " 'lab01': 0.83,\n",
       " 'lab02': 0.92,\n",
       " 'lab03': 0.83,\n",
       " 'lab04': 0.85,\n",
       " 'lab05': 0.8,\n",
       " 'lab06': 0.85,\n",
       " 'lab07': 0.83,\n",
       " 'lab08': 0.8,\n",
       " 'lab09': 0.7}"
      ]
     },
     "execution_count": 6,
     "metadata": {},
     "output_type": "execute_result"
    }
   ],
   "source": [
    "averages = {i: round(np.mean(grades[i]), 2) for i in grades}\n",
    "averages"
   ]
  },
  {
   "cell_type": "code",
   "execution_count": 7,
   "metadata": {
    "collapsed": true
   },
   "outputs": [],
   "source": [
    "# Lab and Homework average DataFrame creation.\n",
    "lab_averages = pd.DataFrame([averages[i] * 100 for i in LAB_LIST])\n",
    "hw_averages = pd.DataFrame([averages[i] * 100 for i in HW_LIST])\n",
    "\n",
    "# Have indexing start at 1 for DataFrame\n",
    "lab_averages.index = np.arange(1, len(LAB_LIST) + 1)\n",
    "hw_averages.index = np.arange(1, len(HW_LIST) + 1)"
   ]
  },
  {
   "cell_type": "markdown",
   "metadata": {},
   "source": [
    "<h2> Analysis </h2>\n",
    "\n",
    "Now comes to the part of the analysis where we can actually make some inferences and predictions based on the data.\n",
    "\n",
    "The first thing we can do is graph the homework and lab grade averages and see what the data tells us based on the week of the quarter."
   ]
  },
  {
   "cell_type": "markdown",
   "metadata": {},
   "source": [
    "<h3> Averages </h3>"
   ]
  },
  {
   "cell_type": "code",
   "execution_count": 8,
   "metadata": {
    "scrolled": false
   },
   "outputs": [
    {
     "data": {
      "image/png": "[encoded data removed]",
      "text/plain": [
       "<matplotlib.figure.Figure at 0x10f824f28>"
      ]
     },
     "metadata": {},
     "output_type": "display_data"
    }
   ],
   "source": [
    "# Lab and Homework plot.\n",
    "plt.rcParams[\"figure.figsize\"] = [8.0, 6.0]\n",
    "plt.plot(lab_averages)\n",
    "plt.plot(hw_averages)\n",
    "plt.title(\"Average Percentage by Week\")\n",
    "plt.xlabel(\"Week\")\n",
    "plt.ylabel(\"Percentage\")\n",
    "plt.text(5, 87, \"Lab Averages\")\n",
    "plt.text(3, 70, \"Homework Averages\")\n",
    "plt.show()"
   ]
  },
  {
   "cell_type": "markdown",
   "metadata": {},
   "source": [
    "This data is from Spring Quarter, 2018. Some important dates from the quarter were:\n",
    "<li>The drop deadlines (Week 4 without a Withdrawal, Week 9 with)</li>\n",
    "<li>The midterm date, April 30, Week 5</li>\n",
    "<li>The midterm grade release date, May 2, Week 5</li>"
   ]
  },
  {
   "cell_type": "markdown",
   "metadata": {},
   "source": [
    "From this plot alone, we can make some speculations. \n",
    "\n",
    "Firstly, we can see that there was a slight dip in homework and lab grade averages around Week 5. This is likely due to the midterm, which caused people to take time away from working on the labs and homework assignments, and instead focus on studying. The week 4 grades and Week 6 grades for both labs and homeworks are quite similar, so having an exam during Week 5 could definitely be a factor in this dip.\n",
    "\n",
    "Secondly, we can see a massive drop in homework grades after Week 6, continuing until the end of the data I have. Lab grades have a gradual dip after Week 6, only having a drop like that seen in homework grades after Week 8."
   ]
  },
  {
   "cell_type": "markdown",
   "metadata": {},
   "source": [
    "<h3> Zeroes </h3>\n",
    "\n",
    "An interesting trend to look at could be the number of zeroes on assignments as the quarter progresses. This could give us insight into how many students could be dropping the course based on how many did not complete certain assignments.\n",
    "\n",
    "We can go about finding this by finding the number of students in the course, then counting how many zeroes there are in each lab and homework to find the respective percentages."
   ]
  },
  {
   "cell_type": "code",
   "execution_count": 9,
   "metadata": {},
   "outputs": [
    {
     "name": "stdout",
     "output_type": "stream",
     "text": [
      "147\n"
     ]
    }
   ],
   "source": [
    "num_students = len(grades)\n",
    "print(num_students)\n",
    "\n",
    "num_zeroes_per_lab = []\n",
    "num_zeroes_per_hw = []\n",
    "\n",
    "labs = grades[grades.columns[0:9]]\n",
    "hws = grades[grades.columns[9:17]]\n",
    "\n",
    "labs.apply(lambda x: num_zeroes_per_lab.append(list(x).count(0.0)))\n",
    "hws.apply(lambda x: num_zeroes_per_hw.append(list(x).count(0.0)))\n",
    "\n",
    "percent_zeroes_per_lab = [round((i / num_students) * 100, 2) for i in num_zeroes_per_lab]\n",
    "percent_zeroes_per_hw = [round((i / num_students) * 100, 2) for i in num_zeroes_per_hw]"
   ]
  },
  {
   "cell_type": "code",
   "execution_count": 10,
   "metadata": {},
   "outputs": [
    {
     "data": {
      "image/png": "[encoded data removed]",
      "text/plain": [
       "<matplotlib.figure.Figure at 0x10f806470>"
      ]
     },
     "metadata": {},
     "output_type": "display_data"
    }
   ],
   "source": [
    "plt.barh(list(labs), percent_zeroes_per_lab)\n",
    "plt.title('Percentage of Zeroes per Lab')\n",
    "plt.xlabel('Lab')\n",
    "plt.ylabel('Percentage of Zeroes')\n",
    "plt.gca().invert_yaxis()\n",
    "plt.show()"
   ]
  },
  {
   "cell_type": "markdown",
   "metadata": {},
   "source": [
    "This bar chart shows the percentage of students who got zeroes on their lab assignments as the quarter progressed.  We can see that as the quarter progresses, more students begin to fail to even submit one question of a lab assignment. \n",
    "\n",
    "The final lab that I have data for shows about 25% of students receiving a zero for the assignment.  This transition from lab08 to lab09 shows roughly a 9% increase in students getting zeroes, which could account for a 9% drop rate estimate for the course from week 8 to week 9.\n",
    "\n",
    "Using my academic history portal given to me by UCSD, I can see that only 68 students remained in this course by the final grading period.  We can see from the data that at the very start of the course, there were 147 students enrolled, meaning that 79 students dropped the course, which is roughly 53% of the course!\n",
    "\n",
    "Lab09 was the first lab assignment after the drop deadline passed, another important fact.  This would definitely contribute to the sudden high zero rate, due to the 9% increase in zeroes."
   ]
  },
  {
   "cell_type": "code",
   "execution_count": 11,
   "metadata": {},
   "outputs": [
    {
     "data": {
      "image/png": "[encoded data removed]",
      "text/plain": [
       "<matplotlib.figure.Figure at 0x117b46cf8>"
      ]
     },
     "metadata": {},
     "output_type": "display_data"
    }
   ],
   "source": [
    "plt.barh(list(hws), percent_zeroes_per_hw)\n",
    "plt.title('Percentage of Zeroes per Homework')\n",
    "plt.xlabel('Homework')\n",
    "plt.ylabel('Percentage of Zeroes')\n",
    "plt.gca().invert_yaxis()\n",
    "plt.show()"
   ]
  },
  {
   "cell_type": "markdown",
   "metadata": {},
   "source": [
    "The same kind of trend can be seen in the homework assignments for this course as is seen in the lab results above, although there is one slight difference.  The homework results seems to be jumped a week before the lab results, in terms of how the trend is seen.\n",
    "\n",
    "Week 8 was right before the large spike in zeroes in labs, whereas for the homework assignments, week 7 seems to be the tipping point.  Students got their midterm grades back week 5, so two weeks was likely enough time for any students who wanted to drop to fully go through with it.\n",
    "\n",
    "Another interesting observation is the similarity between the zeroes in hw6 and hw7.  Both of these had the same percentage of zeroes, meaning that these are likely the same people who were not even attempting homeworks.  The zero rate soars about 7% for the week 8 homework, so people were likely dropping early before the week 9 deadline hit.\n",
    "\n",
    "The homework percentage of zeroes also seems to be slightly higher than the percentage of zeroes received on labs, which could likely be attributed to the lenght of the assignments.  Labs were generally shorter and took less time, whereas homework assignments needed to be sat down with for a longer while and worked through, which would discourage people who may not have been motivated to work."
   ]
  },
  {
   "cell_type": "code",
   "execution_count": 12,
   "metadata": {},
   "outputs": [
    {
     "data": {
      "text/html": [
       "<div>\n",
       "<style>\n",
       "    .dataframe thead tr:only-child th {\n",
       "        text-align: right;\n",
       "    }\n",
       "\n",
       "    .dataframe thead th {\n",
       "        text-align: left;\n",
       "    }\n",
       "\n",
       "    .dataframe tbody tr th {\n",
       "        vertical-align: top;\n",
       "    }\n",
       "</style>\n",
       "<table border=\"1\" class=\"dataframe\">\n",
       "  <thead>\n",
       "    <tr style=\"text-align: right;\">\n",
       "      <th></th>\n",
       "      <th>Labs</th>\n",
       "      <th>Homeworks</th>\n",
       "    </tr>\n",
       "  </thead>\n",
       "  <tbody>\n",
       "    <tr>\n",
       "      <th>0</th>\n",
       "      <td>9</td>\n",
       "      <td>8</td>\n",
       "    </tr>\n",
       "    <tr>\n",
       "      <th>1</th>\n",
       "      <td>9</td>\n",
       "      <td>8</td>\n",
       "    </tr>\n",
       "    <tr>\n",
       "      <th>2</th>\n",
       "      <td>9</td>\n",
       "      <td>6</td>\n",
       "    </tr>\n",
       "    <tr>\n",
       "      <th>3</th>\n",
       "      <td>4</td>\n",
       "      <td>4</td>\n",
       "    </tr>\n",
       "    <tr>\n",
       "      <th>4</th>\n",
       "      <td>5</td>\n",
       "      <td>5</td>\n",
       "    </tr>\n",
       "  </tbody>\n",
       "</table>\n",
       "</div>"
      ],
      "text/plain": [
       "   Labs  Homeworks\n",
       "0     9          8\n",
       "1     9          8\n",
       "2     9          6\n",
       "3     4          4\n",
       "4     5          5"
      ]
     },
     "execution_count": 12,
     "metadata": {},
     "output_type": "execute_result"
    }
   ],
   "source": [
    "num_assignments_attempted = pd.DataFrame(columns=['Labs', 'Homeworks'])\n",
    "num_assignments_attempted['Labs'] = len(list(labs)) - labs.apply(lambda x: list(x).count(0.0), axis=1)\n",
    "num_assignments_attempted['Homeworks'] = len(list(hws)) - hws.apply(lambda x: list(x).count(0.0), axis=1)\n",
    "num_assignments_attempted.head()"
   ]
  },
  {
   "cell_type": "markdown",
   "metadata": {},
   "source": [
    "Another interesting stat to look at could be the number of people who received zeroes on every single assignment.  This can be done by finding the number of lab and homework assignments each person completed, and seeing how many received zero on both."
   ]
  },
  {
   "cell_type": "code",
   "execution_count": 46,
   "metadata": {},
   "outputs": [
    {
     "name": "stdout",
     "output_type": "stream",
     "text": [
      "7\n"
     ]
    },
    {
     "data": {
      "text/html": [
       "<div>\n",
       "<style>\n",
       "    .dataframe thead tr:only-child th {\n",
       "        text-align: right;\n",
       "    }\n",
       "\n",
       "    .dataframe thead th {\n",
       "        text-align: left;\n",
       "    }\n",
       "\n",
       "    .dataframe tbody tr th {\n",
       "        vertical-align: top;\n",
       "    }\n",
       "</style>\n",
       "<table border=\"1\" class=\"dataframe\">\n",
       "  <thead>\n",
       "    <tr style=\"text-align: right;\">\n",
       "      <th></th>\n",
       "      <th>Labs</th>\n",
       "      <th>Homeworks</th>\n",
       "    </tr>\n",
       "  </thead>\n",
       "  <tbody>\n",
       "    <tr>\n",
       "      <th>140</th>\n",
       "      <td>0</td>\n",
       "      <td>0</td>\n",
       "    </tr>\n",
       "    <tr>\n",
       "      <th>141</th>\n",
       "      <td>0</td>\n",
       "      <td>0</td>\n",
       "    </tr>\n",
       "    <tr>\n",
       "      <th>142</th>\n",
       "      <td>0</td>\n",
       "      <td>0</td>\n",
       "    </tr>\n",
       "    <tr>\n",
       "      <th>143</th>\n",
       "      <td>0</td>\n",
       "      <td>0</td>\n",
       "    </tr>\n",
       "    <tr>\n",
       "      <th>144</th>\n",
       "      <td>0</td>\n",
       "      <td>0</td>\n",
       "    </tr>\n",
       "    <tr>\n",
       "      <th>145</th>\n",
       "      <td>0</td>\n",
       "      <td>0</td>\n",
       "    </tr>\n",
       "    <tr>\n",
       "      <th>146</th>\n",
       "      <td>0</td>\n",
       "      <td>0</td>\n",
       "    </tr>\n",
       "  </tbody>\n",
       "</table>\n",
       "</div>"
      ],
      "text/plain": [
       "     Labs  Homeworks\n",
       "140     0          0\n",
       "141     0          0\n",
       "142     0          0\n",
       "143     0          0\n",
       "144     0          0\n",
       "145     0          0\n",
       "146     0          0"
      ]
     },
     "execution_count": 46,
     "metadata": {},
     "output_type": "execute_result"
    }
   ],
   "source": [
    "zeroes = num_assignments_attempted[num_assignments_attempted['Labs'] == 0]\n",
    "zeroes = zeroes[zeroes['Homeworks'] == 0]\n",
    "num_only_zeroes = len(zeroes)\n",
    "\n",
    "print(num_only_zeroes)\n",
    "zeroes"
   ]
  },
  {
   "cell_type": "markdown",
   "metadata": {},
   "source": [
    "The result of looking into this stat is that we can see that there were 7 people who enrolled in the course and either dropped right away, or did not turn in a single assignment.  These could be people who have decided to no longer pursue the major, or accidentally enrolled and did not realize until the quarter began.\n",
    "\n",
    "How can we find out how everyone dropped the course? We know that at least 25% may have dropped by week 8 or 9, due to the average zero rate per assignment. We also know that the previous seven must be a part of this group. "
   ]
  },
  {
   "cell_type": "markdown",
   "metadata": {},
   "source": [
    "We can try to predict the number of zeroes by week with a quick linear regression. Our current value at week 8 is just under 25% zeroes on homework assignments, but the regression seems to differ a little bit, expecting a roughly 22% zero rate, not reaching nearly 26% until week 10. This doesn't really help us discover where the other drops occurred."
   ]
  },
  {
   "cell_type": "code",
   "execution_count": 45,
   "metadata": {},
   "outputs": [
    {
     "data": {
      "image/png": "[encoded data removed]",
      "text/plain": [
       "<matplotlib.figure.Figure at 0x1a1a2e6208>"
      ]
     },
     "metadata": {},
     "output_type": "display_data"
    },
    {
     "name": "stdout",
     "output_type": "stream",
     "text": [
      "[ 25.80678571]\n"
     ]
    }
   ],
   "source": [
    "X = np.array(percent_zeroes_per_hw)\n",
    "y = np.arange(1, 9).reshape(-1, 1)\n",
    "reg = LinearRegression().fit(y, X)\n",
    "slope = reg.coef_\n",
    "intercept = reg.intercept_ \n",
    "\n",
    "weeks = y\n",
    "predicted_percent_zeroes = intercept + slope * weeks\n",
    "\n",
    "plt.plot(weeks, predicted_percent_zeroes)\n",
    "plt.show()\n",
    "\n",
    "print(intercept + slope * 10)"
   ]
  },
  {
   "cell_type": "markdown",
   "metadata": {},
   "source": [
    "Let's recap one more time. 7 people completed no assignments. They are a part of the 25% subset that received zeroes on some of the final assignments. Week 9 was the deadline to drop without a W, so these people had to drop before then. 36 of the 77 drops are accounted for, so what about the other 41? Another technique we could try is finding out how many people are below the mean of the final assignment due, but who did not receive zeroes."
   ]
  },
  {
   "cell_type": "code",
   "execution_count": 52,
   "metadata": {},
   "outputs": [
    {
     "name": "stdout",
     "output_type": "stream",
     "text": [
      "77 36\n"
     ]
    }
   ],
   "source": [
    "num_dropped = int(len(grades) * .53)\n",
    "zeroes_at_end = int(len(grades) * .25)\n",
    "print(num_dropped, zeroes_at_end)"
   ]
  },
  {
   "cell_type": "code",
   "execution_count": 74,
   "metadata": {},
   "outputs": [
    {
     "name": "stdout",
     "output_type": "stream",
     "text": [
      "0.5725986394557822\n"
     ]
    },
    {
     "data": {
      "text/plain": [
       "24"
      ]
     },
     "execution_count": 74,
     "metadata": {},
     "output_type": "execute_result"
    }
   ],
   "source": [
    "hw_8_mean = grades['hw8'].mean()\n",
    "print(hw_8_mean)\n",
    "\n",
    "below_mean = grades[grades['hw8'] < hw_8_mean]\n",
    "below_mean = below_mean[below_mean['hw8'] > 0][['hw8']]\n",
    "len(below_mean)"
   ]
  },
  {
   "cell_type": "markdown",
   "metadata": {},
   "source": [
    "We now have another 24 students who were below the mean of the final homework assignment on record. It could be safe to say that these individuals were likely to drop, seeing as homework was a large part of the grading criteria for the class, the mean for this assignment was failing, and there were only 18 people who received less than a B-.\n",
    "\n",
    "We now have our 36 people who received zeroes on the last assignment, and 24 people who did not get zeroes, but did get below the mean.  This gives us 60 drops, just 17 below our target."
   ]
  },
  {
   "cell_type": "code",
   "execution_count": 78,
   "metadata": {},
   "outputs": [
    {
     "name": "stdout",
     "output_type": "stream",
     "text": [
      "0.6959183673469389\n"
     ]
    },
    {
     "data": {
      "text/plain": [
       "7"
      ]
     },
     "execution_count": 78,
     "metadata": {},
     "output_type": "execute_result"
    }
   ],
   "source": [
    "lab_9_mean = grades['lab09'].mean()\n",
    "print(lab_9_mean)\n",
    "\n",
    "below_mean_lab = grades[grades['lab09'] < lab_9_mean]\n",
    "below_mean_lab = below_mean_lab[below_mean_lab['lab09'] > 0][['lab09']]\n",
    "\n",
    "below_mean_hw = list(below_mean.index)\n",
    "below_mean_lab = list(below_mean_lab.index)\n",
    "\n",
    "count = 0\n",
    "for i in below_mean_lab:\n",
    "    if i not in below_mean_hw:\n",
    "        count += 1\n",
    "\n",
    "count"
   ]
  },
  {
   "cell_type": "markdown",
   "metadata": {},
   "source": [
    "We can check the number of people who were below the mean of the final lab assignment on record, but excluding those who were below the mean of the last homework, since we have already counted them. We now have seven more people on record, so just 10 shy of our magic number."
   ]
  },
  {
   "cell_type": "code",
   "execution_count": null,
   "metadata": {
    "collapsed": true
   },
   "outputs": [],
   "source": []
  }
 ],
 "metadata": {
  "kernelspec": {
   "display_name": "Python 3",
   "language": "python",
   "name": "python3"
  },
  "language_info": {
   "codemirror_mode": {
    "name": "ipython",
    "version": 3
   },
   "file_extension": ".py",
   "mimetype": "text/x-python",
   "name": "python",
   "nbconvert_exporter": "python",
   "pygments_lexer": "ipython3",
   "version": "3.6.3"
  }
 },
 "nbformat": 4,
 "nbformat_minor": 2
}
